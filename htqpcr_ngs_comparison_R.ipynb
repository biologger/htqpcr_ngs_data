{
 "cells": [
  {
   "cell_type": "markdown",
   "metadata": {},
   "source": [
    "[GitHub repository](https://github.com/biologger/htqpcr_ngs_data)"
   ]
  },
  {
   "cell_type": "markdown",
   "metadata": {},
   "source": [
    "# High-throughput qPCR and 16S rRNA gene amplicon sequencing as complementary methods for the investigation of the cheese microbiota"
   ]
  },
  {
   "cell_type": "markdown",
   "metadata": {},
   "source": [
    "## Data analysis\n",
    "In our lab we are investigating the cheese microbiome and are interested in the influence of bacteria on cheese quality. Two different approaches were developed in recent years for the investigation of the cheese core microbiota. In this study we compared the results of the analysis of 21 Raclette du Valais PDO cheeses with two methods, high-throughput qPCR and 16S rRNA gene amplicon sequencing. We estimated the total bias of 16S rRNA gene amplicon sequencing (library preparation, sequencing and bioinformatics) using results from HT-qPCR as reference. Since we performed the analysis for both methods using the same DNA extractions the measured total bias is independent of the bias for the DNA extraction."
   ]
  },
  {
   "cell_type": "code",
   "execution_count": 1,
   "metadata": {},
   "outputs": [
    {
     "data": {
      "text/html": [
       "<script>\n",
       "  code_show=false;\n",
       "  function code_toggle() {\n",
       "    if (code_show){\n",
       "      $('div.input').hide();\n",
       "    } else {\n",
       "      $('div.input').show();\n",
       "    }\n",
       "    code_show = !code_show\n",
       "  }\n",
       "  $( document ).ready(code_toggle);\n",
       "</script>\n",
       "<form action=\"javascript:code_toggle()\"><input type=\"submit\" value=\"Toggle code on/off\"></form>"
      ],
      "text/plain": [
       "<IPython.core.display.HTML object>"
      ]
     },
     "execution_count": 1,
     "metadata": {},
     "output_type": "execute_result"
    }
   ],
   "source": [
    "from IPython.display import HTML\n",
    "\n",
    "HTML('''<script>\n",
    "  code_show=false;\n",
    "  function code_toggle() {\n",
    "    if (code_show){\n",
    "      $('div.input').hide();\n",
    "    } else {\n",
    "      $('div.input').show();\n",
    "    }\n",
    "    code_show = !code_show\n",
    "  }\n",
    "  $( document ).ready(code_toggle);\n",
    "</script>\n",
    "<form action=\"javascript:code_toggle()\"><input type=\"submit\" value=\"Toggle code on/off\"></form>''')"
   ]
  },
  {
   "cell_type": "code",
   "execution_count": 2,
   "metadata": {},
   "outputs": [],
   "source": [
    "# Environment\n",
    "import os\n",
    "import json\n",
    "import numpy as np\n",
    "import pandas as pd\n",
    "import seaborn as sns\n",
    "import warnings\n",
    "from pprint import pprint\n",
    "\n",
    "from scipy.cluster.hierarchy import dendrogram, linkage\n",
    "import matplotlib.pyplot as plt\n",
    "from matplotlib import gridspec\n",
    "from matplotlib.colors import ListedColormap\n",
    "\n",
    "warnings.filterwarnings('ignore')\n",
    "\n",
    "from comp_analysis import MathFunctions as mf\n",
    "from comp_analysis import HelperFunctions as hf\n",
    "from comp_analysis import PlotFunctions as pf\n",
    "\n",
    "pd.set_option('display.max_rows', 1000)\n",
    "pd.set_option('display.max_columns', 1000)\n",
    "pd.set_option('display.width', 1000)\n",
    "sns.set_context(\"paper\")\n",
    "\n",
    "# R environment\n",
    "os.environ['R_HOME'] = os.path.expanduser('~/anaconda3/envs/htqpcr_ngs_comparison/lib/R')\n",
    "os.environ['PKG_CONFIG_PATH'] = '/usr/lib/x86_64-linux-gnu/pkgconfig'\n",
    "\n",
    "analysis_dir = \"analysis_data\"\n",
    "figures_dir = \"Figures\"\n",
    "dirs = [analysis_dir, figures_dir]\n",
    "for d in dirs:\n",
    "    if not os.path.isdir(d):\n",
    "        os.mkdir(d)\n",
    "      \n",
    "%load_ext rpy2.ipython"
   ]
  },
  {
   "cell_type": "code",
   "execution_count": 3,
   "metadata": {},
   "outputs": [
    {
     "name": "stdout",
     "output_type": "stream",
     "text": [
      "[1] \"R version 4.0.3 (2020-10-10)\"\n"
     ]
    }
   ],
   "source": [
    "%%R\n",
    "R.Version()$version.string"
   ]
  },
  {
   "cell_type": "code",
   "execution_count": 4,
   "metadata": {
    "scrolled": false
   },
   "outputs": [
    {
     "name": "stderr",
     "output_type": "stream",
     "text": [
      "R[write to console]: Loading required package: tidyverse\n",
      "\n",
      "R[write to console]: ── \u001b[1mAttaching packages\u001b[22m ─────────────────────────────────────── tidyverse 1.3.1 ──\n",
      "\n",
      "R[write to console]: \u001b[32m✔\u001b[39m \u001b[34mggplot2\u001b[39m 3.3.3     \u001b[32m✔\u001b[39m \u001b[34mpurrr  \u001b[39m 0.3.4\n",
      "\u001b[32m✔\u001b[39m \u001b[34mtibble \u001b[39m 3.1.2     \u001b[32m✔\u001b[39m \u001b[34mdplyr  \u001b[39m 1.0.6\n",
      "\u001b[32m✔\u001b[39m \u001b[34mtidyr  \u001b[39m 1.1.3     \u001b[32m✔\u001b[39m \u001b[34mstringr\u001b[39m 1.4.0\n",
      "\u001b[32m✔\u001b[39m \u001b[34mreadr  \u001b[39m 1.4.0     \u001b[32m✔\u001b[39m \u001b[34mforcats\u001b[39m 0.5.1\n",
      "\n",
      "R[write to console]: ── \u001b[1mConflicts\u001b[22m ────────────────────────────────────────── tidyverse_conflicts() ──\n",
      "\u001b[31m✖\u001b[39m \u001b[34mdplyr\u001b[39m::\u001b[32mfilter()\u001b[39m masks \u001b[34mstats\u001b[39m::filter()\n",
      "\u001b[31m✖\u001b[39m \u001b[34mdplyr\u001b[39m::\u001b[32mlag()\u001b[39m    masks \u001b[34mstats\u001b[39m::lag()\n",
      "\n",
      "R[write to console]: Loading required package: devtools\n",
      "\n",
      "R[write to console]: Loading required package: usethis\n",
      "\n",
      "R[write to console]: Loading required package: phyloseq\n",
      "\n",
      "R[write to console]: Loading required package: metacal\n",
      "\n"
     ]
    }
   ],
   "source": [
    "%%R\n",
    "# Install R Packages the first time / load otherwise\n",
    "if (!require('tidyverse')) install.packages('tidyverse'); library('tidyverse')\n",
    "if (!require('devtools')) install.packages('devtools', dependencies=TRUE); library('devtools')\n",
    "if (!require('phyloseq')) BiocManager::install(\"phyloseq\"); library('phyloseq')\n",
    "if (!require('metacal')) devtools::install_github(\"mikemc/metacal\"); library('metacal')\n",
    "\n",
    "# for problems installing the devtools package see:\n",
    "# https://github.com/r-lib/devtools/issues/2131"
   ]
  },
  {
   "cell_type": "markdown",
   "metadata": {},
   "source": [
    "---\n",
    "\n",
    "### 16S rRNA gene amplicon sequencing\n",
    "* Amplicons of the V1-V2 region of the 16S rRNA gene\n",
    "* The analysis pipeline used the [DAIRYdb](https://github.com/marcomeola/DAIRYdb) database, [Meola et al. 2019](https://doi.org/10.1186/s12864-019-5914-8) for taxonomy assignment of the ASVs.\n",
    "* A taxonomic resolution at species level was targeted\n",
    "\n",
    "#### Summary amplicon sequencing raw data"
   ]
  },
  {
   "cell_type": "code",
   "execution_count": 5,
   "metadata": {},
   "outputs": [
    {
     "name": "stdout",
     "output_type": "stream",
     "text": [
      "Average sequencing depth: 471184 reads\n",
      "Range: 361496-632269 reads\n",
      "Total assigned reads: 9894860\n",
      "Number of ASVs: 233\n",
      "\n",
      "Level of assigned taxa\n",
      "Family:   2\n",
      "Genus:    0\n",
      "Species: 45\n",
      "\n",
      "Samples: 21\n"
     ]
    }
   ],
   "source": [
    "# NGS raw data\n",
    "raw_reads_df = pd.read_csv(\"rawdata/V18-22-21_ASV_counts_table.csv\", header=0, index_col=0)\n",
    "\n",
    "# filter very low reads\n",
    "reads_df = raw_reads_df[\n",
    "    (raw_reads_df.iloc[:, 9::].T.sum() > 2) & \n",
    "    (\n",
    "        raw_reads_df.iloc[:, 9::].T.astype(bool).sum() \n",
    "        > 0.01 * len(raw_reads_df.iloc[:, 9::].T.index))]\n",
    "\n",
    "# Add shorter labels\n",
    "reads_df.columns = [\n",
    "    \"S\" + n.split(\"-BC\")[-1] if \"-BC\" in n else n \n",
    "    for n in reads_df.columns.tolist()]\n",
    "\n",
    "# Extract data for Raclette du Valais samples\n",
    "rac_reads = reads_df.iloc[:, :len(reads_df.columns) - 5]\n",
    "rac_data = rac_reads[(rac_reads.iloc[:, 9:] != 0).any(axis=1)]\n",
    "\n",
    "# reads info\n",
    "hf.reads_info(rac_data, verbose=True)\n",
    "# prints taxonomic data if verbose=True \n",
    "hf.tax_info(rac_data, verbose=False)\n",
    "# create species table\n",
    "ngs_count = hf().asv_to_speciestable(rac_data)\n",
    "    \n",
    "# Calculate relative abundance\n",
    "ngs_reldna = 100 / ngs_count.sum() * ngs_count\n",
    "ngs_reldna.replace(np.nan, 0, inplace=True)\n",
    "filepath = os.path.join(analysis_dir, \"ngs_rel_abundance.csv\")\n",
    "ngs_reldna.to_csv(filepath)\n",
    "\n",
    "spec_mask = ngs_reldna.index.str.contains(\"Species\")\n",
    "\n",
    "fam = set(rac_data[rac_data[\"Genus\"].str.contains(\"Genus\")][\"Genus\"])\n",
    "gen = set(rac_data[rac_data[\"Species\"].str.contains(\"Species\")][\"Species\"])\n",
    "fam_num = [f.split(\"_\")[0] for f in fam]\n",
    "genus_num = [g for g in gen if g.split(\"_\")[0] not in fam_num]\n",
    "fam_num, genus_num\n",
    "\n",
    "print(\"\")\n",
    "print(\"Level of assigned taxa\")\n",
    "print(\"Family:  \", len(fam_num))\n",
    "print(\"Genus:   \", len(genus_num))                     \n",
    "print(\"Species:\", len(ngs_reldna[~spec_mask].index))\n",
    "print(\"\")\n",
    "print(\"Samples:\", ngs_reldna.shape[1])"
   ]
  },
  {
   "cell_type": "markdown",
   "metadata": {},
   "source": [
    "---"
   ]
  },
  {
   "cell_type": "markdown",
   "metadata": {},
   "source": [
    "#### Additional data for Figure 1"
   ]
  },
  {
   "cell_type": "code",
   "execution_count": 6,
   "metadata": {
    "scrolled": true
   },
   "outputs": [
    {
     "name": "stdout",
     "output_type": "stream",
     "text": [
      "Number of species shown in plot (>30% prevalence):\n",
      "21\n",
      "\n",
      "Reads assigned to most prevalent species:\n",
      "Average: 99.96% (range: 99.79-100%)\n",
      "\n",
      "Number of less prevalent species (Other species) per sample:\n",
      "\n",
      "Average 2.38 (range: 0 - 7)\n"
     ]
    },
    {
     "data": {
      "text/html": [
       "<div>\n",
       "<style scoped>\n",
       "    .dataframe tbody tr th:only-of-type {\n",
       "        vertical-align: middle;\n",
       "    }\n",
       "\n",
       "    .dataframe tbody tr th {\n",
       "        vertical-align: top;\n",
       "    }\n",
       "\n",
       "    .dataframe thead th {\n",
       "        text-align: right;\n",
       "    }\n",
       "</style>\n",
       "<table border=\"1\" class=\"dataframe\">\n",
       "  <thead>\n",
       "    <tr style=\"text-align: right;\">\n",
       "      <th></th>\n",
       "      <th>S01</th>\n",
       "      <th>S02</th>\n",
       "      <th>S03</th>\n",
       "      <th>S04</th>\n",
       "      <th>S05</th>\n",
       "      <th>S06</th>\n",
       "      <th>S07</th>\n",
       "      <th>S08</th>\n",
       "      <th>S09</th>\n",
       "      <th>S10</th>\n",
       "      <th>S11</th>\n",
       "      <th>S12</th>\n",
       "      <th>S13</th>\n",
       "      <th>S14</th>\n",
       "      <th>S15</th>\n",
       "      <th>S16</th>\n",
       "      <th>S17</th>\n",
       "      <th>S18</th>\n",
       "      <th>S19</th>\n",
       "      <th>S20</th>\n",
       "      <th>S21</th>\n",
       "    </tr>\n",
       "  </thead>\n",
       "  <tbody>\n",
       "    <tr>\n",
       "      <th>Other species</th>\n",
       "      <td>1</td>\n",
       "      <td>3</td>\n",
       "      <td>2</td>\n",
       "      <td>7</td>\n",
       "      <td>3</td>\n",
       "      <td>3</td>\n",
       "      <td>0</td>\n",
       "      <td>1</td>\n",
       "      <td>2</td>\n",
       "      <td>1</td>\n",
       "      <td>1</td>\n",
       "      <td>3</td>\n",
       "      <td>3</td>\n",
       "      <td>1</td>\n",
       "      <td>3</td>\n",
       "      <td>3</td>\n",
       "      <td>2</td>\n",
       "      <td>1</td>\n",
       "      <td>5</td>\n",
       "      <td>2</td>\n",
       "      <td>3</td>\n",
       "    </tr>\n",
       "  </tbody>\n",
       "</table>\n",
       "</div>"
      ],
      "text/plain": [
       "               S01  S02  S03  S04  S05  S06  S07  S08  S09  S10  S11  S12  S13  S14  S15  S16  S17  S18  S19  S20  S21\n",
       "Other species    1    3    2    7    3    3    0    1    2    1    1    3    3    1    3    3    2    1    5    2    3"
      ]
     },
     "execution_count": 6,
     "metadata": {},
     "output_type": "execute_result"
    }
   ],
   "source": [
    "# Show only species names for species present in more than 30% of the samples\n",
    "tot_samples = ngs_reldna.shape[1]\n",
    "prev_th = 0.3\n",
    "# Split the plot for average reads\n",
    "th = 0.5\n",
    "\n",
    "prev_mask = (ngs_reldna.replace(0, np.nan).count(axis=1) >= tot_samples * prev_th)\n",
    "prev = ngs_reldna.loc[prev_mask]\n",
    "abund_mask = (prev.mean(axis=1) >= th)\n",
    "high = prev.loc[prev.loc[abund_mask].mean(axis=1).sort_values(ascending=False).index]\n",
    "low = prev.loc[prev.loc[~abund_mask].mean(axis=1).sort_values(ascending=False).index]\n",
    "low.loc[\"Other species\", :] = ngs_reldna.loc[~prev_mask].sum()\n",
    "print(\"Number of species shown in plot (>30% prevalence):\\n{}\".format(len(prev.index)))\n",
    "print(\"\\nReads assigned to most prevalent species:\\nAverage: {:.2f}% (range: {:.2f}-{:.0f}%)\".format(\n",
    "        prev.sum().mean(), prev.sum().min(), prev.sum().max()))\n",
    "\n",
    "other_sp = ngs_reldna[ngs_reldna.loc[~prev_mask] != 0].count()\n",
    "print(\"\\nNumber of less prevalent species (Other species) per sample:\")\n",
    "print(\"\\nAverage {:.2f} (range: {} - {})\".format(other_sp.mean(), other_sp.min(), other_sp.max()))\n",
    "pd.DataFrame(other_sp, columns=[\"Other species\"]).T"
   ]
  },
  {
   "cell_type": "code",
   "execution_count": 7,
   "metadata": {
    "scrolled": false
   },
   "outputs": [
    {
     "data": {
      "image/png": "[encoded data removed]",
      "text/plain": [
       "<Figure size 576x576 with 2 Axes>"
      ]
     },
     "metadata": {
      "needs_background": "light"
     },
     "output_type": "display_data"
    }
   ],
   "source": [
    "# Draw figure for NGS results\n",
    "figsize=(8, 8)\n",
    "sns.set_palette(\"Paired\")\n",
    "f, ax = plt.subplots(ncols=1, nrows=2, figsize=figsize, sharex=False, gridspec_kw={\"hspace\": 0.175})\n",
    "pf.draw_ngs_barplot(high, low, ax, th)\n",
    "save_to = os.path.join(figures_dir, \"Figure_1.png\")\n",
    "plt.savefig(save_to, dpi=600, bbox_inches='tight')\n",
    "plt.show()"
   ]
  },
  {
   "cell_type": "markdown",
   "metadata": {},
   "source": [
    "##### Figure 1: Bacterial community composition determined by 16S rRNA gene amplicon sequencing\n",
    "Species detected in Raclette du Valais PDO cheese DNA samples (S01-S21) with an average relative abundance above 0.5% are shown in the upper panel and the species with a lower average abundance in the lower panel. The relative abundance of the 21 species detected in more than 30% of the samples are depicted with the species name, the other 26 taxa were classified as other species."
   ]
  },
  {
   "cell_type": "markdown",
   "metadata": {},
   "source": [
    "---\n",
    "\n",
    "### HT-qPCR\n",
    "* The species targeted by the HT-qPCR system were selected based on preliminary data of Gruyère and Raclette du Valais 16S rRNA gene amplicon sequencing data.\n",
    "\n",
    "* The primers for the HT-qPCR system were designed using [SpeciesPrimer](https://github.com/biologger/speciesprimer/), [Dreier et al. 2020](https://doi.org/10.7717/peerj.8544).\n",
    "\n",
    "* The script used to analyse the HT-qPCR data can be found on [GitHub](https://github.com/biologger/htqpcr_validation_data), [Dreier et al. 2021](https://doi.org/10.3389/fmicb.2020.619166)."
   ]
  },
  {
   "cell_type": "code",
   "execution_count": 8,
   "metadata": {},
   "outputs": [],
   "source": [
    "%%capture\n",
    "%run -i HTqPCR_dataparser/biomarkdataparser.py -i \"rawdata/V18-22-21_htqpcr_rawdata.csv\" \\\n",
    "--number 3 --replicates sample --outdir \"analysis_data/htqpcrdata\" --samplefilter 18-22-21 \\\n",
    "-x PW --transpose --datatoplot None"
   ]
  },
  {
   "cell_type": "markdown",
   "metadata": {},
   "source": [
    "#### Summary HT-qPCR raw data"
   ]
  },
  {
   "cell_type": "code",
   "execution_count": 9,
   "metadata": {},
   "outputs": [
    {
     "name": "stdout",
     "output_type": "stream",
     "text": [
      "Species not detected by qPCR in the samples:\n",
      "['Clostridium tyrobutyricum',\n",
      " 'Enterococcus durans',\n",
      " 'Enterococcus faecium',\n",
      " 'Lacticaseibacillus casei',\n",
      " 'Limosilactobacillus fermentum',\n",
      " 'Pediococcus acidilactici',\n",
      " 'Propionibacterium freudenreichii']\n",
      "\n",
      "qPCR dataset\n",
      "# Species:  16\n",
      "# Samples: 21\n"
     ]
    }
   ],
   "source": [
    "# read data and update labels\n",
    "heatmap_file = os.path.join(\"analysis_data\", \"htqpcrdata\", \"copy_heatmap_data.csv\")\n",
    "df = pd.read_csv(heatmap_file, header=0, index_col=0)\n",
    "df.columns = [\"S\"+n.split(\"EH \")[-1] for n in df.columns.values]\n",
    "df.index = hf().new_assay_species_labels(df.index.values)\n",
    "# remove all rows (species) that were not detected in DNA samples\n",
    "pcr = df.dropna(how=\"all\")\n",
    "removed = df[~df.index.isin(pcr.index)]\n",
    "print(\"Species not detected by qPCR in the samples:\")\n",
    "pprint(removed.index.tolist())\n",
    "\n",
    "# number of copies (from log10 copies)\n",
    "qpcr_count = round(10 ** pcr)\n",
    "qpcr_count.loc[\"Lactococcus lactis\"] = qpcr_count.loc[[\n",
    "                                        \"Lactococcus lactis subsp. lactis\",\n",
    "                                        \"Lactococcus lactis subsp. cremoris\"]].sum()\n",
    "qpcr_count.drop([\n",
    "    \"Lactococcus lactis subsp. lactis\",\n",
    "    \"Lactococcus lactis subsp. cremoris\"], inplace=True)\n",
    "qpcr_count = qpcr_count.replace(np.nan, 0).astype(\"int64\")\n",
    "filepath = os.path.join(analysis_dir, \"qpcr_count.csv\")\n",
    "qpcr_count.to_csv(filepath)\n",
    "\n",
    "qpcr_reldna = 100/qpcr_count.sum()*qpcr_count\n",
    "\n",
    "print(\"\")\n",
    "print(\"qPCR dataset\")\n",
    "print(\"# Species: \", qpcr_reldna.shape[0])\n",
    "print(\"# Samples:\", qpcr_reldna.shape[1])"
   ]
  },
  {
   "cell_type": "markdown",
   "metadata": {},
   "source": [
    "---"
   ]
  },
  {
   "cell_type": "code",
   "execution_count": null,
   "metadata": {},
   "outputs": [],
   "source": [
    "# qPCR data heatmap - Only detected species sorted\n",
    "species = list(pcr.index.values)\n",
    "df = pd.read_csv(\"analysis_data/htqpcrdata/copy_annotation.csv\", header=0, index_col=0)\n",
    "df.columns = [\"S\"+n.split(\"EH \")[-1] for n in df.columns.values]\n",
    "df.index = hf().new_assay_species_labels(df.index.values)\n",
    "\n",
    "qpcrdata = hf.sort_sum(pcr)\n",
    "annotation = df.loc[qpcrdata.index, qpcrdata.columns]\n",
    "\n",
    "figsize=(12, 11)\n",
    "f, ax = plt.subplots(ncols=1, nrows=1, figsize=figsize)\n",
    "x , y, w, h = -0.065, 0.78, 0.03, 0.2\n",
    "cax = f.add_axes([x, y, w, h])\n",
    "pf.draw_qpcr_heatmap(qpcrdata, annotation, ax, cax)\n",
    "\n",
    "save_to = os.path.join(figures_dir, \"Figure_2.png\")\n",
    "plt.savefig(save_to, dpi=600, bbox_inches='tight')"
   ]
  },
  {
   "cell_type": "markdown",
   "metadata": {},
   "source": [
    "##### Figure 2: Heatmap of HT-qPCR results\n",
    "The heatmap annotation depicts the average log copies/µl and the standard deviation of technical triplicates. When not all samples were positive, the number of positive samples out of the total number of samples is given in brackets."
   ]
  },
  {
   "cell_type": "markdown",
   "metadata": {},
   "source": [
    "---\n",
    "\n",
    "### Method comparison\n",
    "* Both methods were applied to the same DNA samples\n",
    "* HT-qPCR and amplicon sequencing are fundamentaly different in the results they produce.\n",
    "    * Amplicon sequencing instruments have a fixed number of sequence reads and therefore the data are constraint to a constant sum (compositional) [Gloor et al. 2017](https://doi.org/10.3389/fmicb.2017.02224)\n",
    "     \n",
    "    * HT-qPCR results consists of quantitative data for the targeted species when compared to a standard."
   ]
  },
  {
   "cell_type": "markdown",
   "metadata": {},
   "source": [
    "---"
   ]
  },
  {
   "cell_type": "code",
   "execution_count": null,
   "metadata": {},
   "outputs": [],
   "source": [
    "# Calculate stats for rel. abundance qPCR data\n",
    "qpcr_stat = hf.get_stat_df(qpcr_reldna)\n",
    "# Calculate stats for rel. abundance NGS data\n",
    "ngs_comp = prev.copy()\n",
    "ngs_comp.loc[\"Other species\", :] = ngs_reldna.loc[~prev_mask].sum()\n",
    "ngs_stat = hf.get_stat_df(ngs_comp)               \n",
    "# Combine comp_stats for NGS and qPCR\n",
    "comp_stats = pd.concat(\n",
    "    [qpcr_stat[[\"Count\", \"Mean\", \"Std\"]], ngs_stat[[\"Count\", \"Mean\", \"Std\"]]], axis=1, sort=False)\n",
    "# Add multiindex header\n",
    "iterables = [['qPCR', 'NGS'], [\"Count\", \"Avg. abundance [%]\", \"SD\"]]\n",
    "multiheader = pd.MultiIndex.from_product(iterables, names=['Method', 'Statistic'])\n",
    "comp_stats.columns = multiheader\n",
    "# Sort comp_stats\n",
    "order = comp_stats[\n",
    "        [(\"NGS\", \"Count\"), (\"qPCR\", \"Count\")]\n",
    "    ].sum(axis=1).sort_values(ascending=False).index\n",
    "comp_stats = comp_stats.loc[order]\n",
    "comp_stats = comp_stats.round(3)\n",
    "comp_stats[\n",
    "    [(\"NGS\", \"Count\"), (\"qPCR\", \"Count\")]\n",
    "        ] = comp_stats[\n",
    "            [(\"NGS\", \"Count\"), (\"qPCR\", \"Count\")]\n",
    "                ].replace(np.nan, 0).astype('int64')\n",
    "\n",
    "fp = os.path.join(figures_dir, \"Table_1_data.csv\")\n",
    "comp_stats.to_csv(fp, index=True)"
   ]
  },
  {
   "cell_type": "markdown",
   "metadata": {},
   "source": [
    "##### Table 1: Detected species and average relative abundance for the HT-qPCR and 16S rRNA gene amplicon sequencing (NGS) in 21 Raclette du Valais PDO cheese samples.\n",
    "The relative abundance of the 21 species detected in more than 30% of the samples by NGS and L. paraplantarum exclusively detected by HT-qPCR are depicted with the species name, the other 26 taxa were classified as other species."
   ]
  },
  {
   "cell_type": "code",
   "execution_count": null,
   "metadata": {},
   "outputs": [],
   "source": [
    "comp_stats"
   ]
  },
  {
   "cell_type": "code",
   "execution_count": null,
   "metadata": {},
   "outputs": [],
   "source": [
    "tmp = comp_stats[[(\"NGS\", \"Count\"), (\"qPCR\", \"Count\")]]\n",
    "tmp = tmp.iloc[0:, :]\n",
    "news = []\n",
    "for i in list(tmp.index):\n",
    "    if i != \"Other species\":\n",
    "        x = i.split(\" \")[0][0] + \". \" + i.split(\" \")[1]\n",
    "        news.append(x)\n",
    "    else:\n",
    "        news.append(i)\n",
    "        \n",
    "tmp.index = news\n",
    "tmp.to_csv(\"tmp_table.csv\")"
   ]
  },
  {
   "cell_type": "markdown",
   "metadata": {},
   "source": [
    "---"
   ]
  },
  {
   "cell_type": "code",
   "execution_count": null,
   "metadata": {},
   "outputs": [],
   "source": [
    "# Create a dataframe with data in long format\n",
    "cheese_df, shared_species = hf.create_summarydf(qpcr_count, ngs_count, qpcr_reldna, ngs_reldna)\n",
    "# Identify commonly measured species (HT-qPCR and amplicon sequencing)\n",
    "print(len(shared_species), \"species shared between methods\")\n",
    "print()\n",
    "shared_species"
   ]
  },
  {
   "cell_type": "code",
   "execution_count": null,
   "metadata": {
    "scrolled": false
   },
   "outputs": [],
   "source": [
    "# Plot\n",
    "color_pal = sns.color_palette(\"colorblind\")\n",
    "fig, ax = plt.subplots(\n",
    "    ncols=2, nrows=1, figsize = (11, 3.5), \n",
    "    gridspec_kw={\"wspace\": 0.25})\n",
    "\n",
    "cat = {\"shared_positive\": 1, \"qPCR_only\": 2, \"NGS_only\": 4, \"NGS_exclusive\": 3}\n",
    "pos_data = cheese_df.query('Category != \"not_detected\"')\n",
    "pos_data[\"Sort\"] = pos_data[\"Category\"].map(cat)\n",
    "plot_data = pos_data.sort_values([\"Sort\"])\n",
    "\n",
    "pf.count_data_plot(plot_data, ax[0], color_pal)\n",
    "pf.rel_data_plot(plot_data, ax[1], color_pal)\n",
    "\n",
    "# Labels for plots\n",
    "ax[0].text(\n",
    "    -0.09, 0.98, 'A', fontsize=22, horizontalalignment='center',\n",
    "     verticalalignment='center', transform=ax[0].transAxes)\n",
    "ax[1].text(\n",
    "    -0.09, 0.98, 'B', fontsize=22, horizontalalignment='center',\n",
    "     verticalalignment='center', transform=ax[1].transAxes)"
   ]
  },
  {
   "cell_type": "markdown",
   "metadata": {},
   "source": [
    "##### Figure 3 AB: Comparison of count data and relative abundance data"
   ]
  },
  {
   "cell_type": "markdown",
   "metadata": {},
   "source": [
    "---"
   ]
  },
  {
   "cell_type": "code",
   "execution_count": null,
   "metadata": {},
   "outputs": [],
   "source": [
    "# count data vs. rel. data\n",
    "q = plot_data.query('Category == \"qPCR_only\"')\n",
    "n = plot_data.query('Category == \"NGS_only\"')\n",
    "print(\n",
    "    \"qPCR only (copies/ul) range: {:.0f} - {:.0f}\".format(q[\"qPCR_count\"].min(), q[\"qPCR_count\"].max()))\n",
    "print(\n",
    "    \" NGS only (reads)     range:    {:.0f} -  {:.0f}\".format(n[\"NGS_count\"].min(), n[\"NGS_count\"].max()))\n",
    "print()\n",
    "print(\n",
    "    \"qPCR only [%] range: {:.4f} - {:.3f}\".format(q[\"qPCR_rel\"].min(), q[\"qPCR_rel\"].max()))\n",
    "print(\n",
    "    \" NGS only [%] range: {:.4f} - {:.3f}\".format(n[\"NGS_rel\"].min(), n[\"NGS_rel\"].max()))\n",
    "\n",
    "print(\"\\nqPCR\")\n",
    "counts = q.groupby([\"Species\"])[\"Species\"].count()\n",
    "\n",
    "print(\"Lactiplantibacillus paraplantarum, {}x\".format(counts[0]))\n",
    "ql = q[q[\"Species\"] == \"Lactiplantibacillus paraplantarum\"]\n",
    "print(\n",
    "    \"qPCR only (copies/ul) range: {:.0f} - {:.0f}\".format(ql[\"qPCR_count\"].min(), ql[\"qPCR_count\"].max()))\n",
    "print(\n",
    "    \"qPCR only [%] range: {:.4f} - {:.3f}\".format(ql[\"qPCR_rel\"].min(), ql[\"qPCR_rel\"].max()))\n",
    "\n",
    "print(\"\\nPediococcus pentosaceus, {}x\".format(counts[1]))\n",
    "qp = q[q[\"Species\"] == \"Pediococcus pentosaceus\"]\n",
    "print(\n",
    "    \"qPCR only (copies/ul) range: {:.0f} - {:.0f}\".format(qp[\"qPCR_count\"].min(), qp[\"qPCR_count\"].max()))\n",
    "print(\n",
    "    \"qPCR only [%] range: {:.4f} - {:.3f}\".format(qp[\"qPCR_rel\"].min(), qp[\"qPCR_rel\"].max()))\n",
    "\n",
    "print(\"\\nNGS\")\n",
    "ngs_df = pd.DataFrame()\n",
    "ngs_grouped = n.groupby([\"Species\"])\n",
    "ngs_df[\"Count\"] = ngs_grouped[\"Species\"].count()\n",
    "ngs_df[\"reads (min)\"] = ngs_grouped[\"NGS_count\"].min().astype(\"int64\")\n",
    "ngs_df[\"reads (max)\"] = ngs_grouped[\"NGS_count\"].max().astype(\"int64\")\n",
    "ngs_df[\"% (min)\"] = ngs_grouped[\"NGS_rel\"].min().round(4)\n",
    "ngs_df[\"% (max)\"] = ngs_grouped[\"NGS_rel\"].max().round(4)\n",
    "pprint(ngs_df.sort_values([\"reads (max)\"], ascending=False))"
   ]
  },
  {
   "cell_type": "markdown",
   "metadata": {},
   "source": [
    "#### Differences in detection of species\n",
    "* Species that were only detected by HT-qPCR in certain samples were *Lactiplantibacillus paraplantarum* and *Pediococcus pentosaceus*. \n",
    "\n",
    "    * *Lactiplantibacillus paraplantarum* was measured 13 times by HT-qPCR with copies/ul in a range between 1472 and 53306 copies/ul. \n",
    "    \n",
    "    * *Lactiplantibacillus paraplantarum* was never detected by amplicon sequencing (Table 1).\n",
    "\n",
    "    * *Pediococcus pentosaceus* was measured in 5 samples by HT-qPCR, but not by amplicon sequencing with a range of 1389 - 6542 copies/ul.  \n",
    "  \n",
    "\n",
    "* 11 species, also covered by HT-qPCR assays, were only detected by amplicon sequencing. The 66 measurements were in a range between 1 and 1369 reads and had a relative abundance between 0.0002 and 0.322%."
   ]
  },
  {
   "cell_type": "markdown",
   "metadata": {},
   "source": [
    "---"
   ]
  },
  {
   "cell_type": "code",
   "execution_count": null,
   "metadata": {},
   "outputs": [],
   "source": [
    "# shared species\n",
    "mask = ngs_reldna.index.isin(shared_species)\n",
    "# not targeted by qPCR but abundant, separate the two most abundant\n",
    "highest_abund = ngs_reldna[~mask].sum(axis=1).nlargest(2).index\n",
    "abund_mask = ngs_reldna.index.isin(highest_abund)\n",
    "# remaining\n",
    "other_mask = (~mask) & (~abund_mask)\n",
    "# Table data\n",
    "tbl = pd.DataFrame()\n",
    "tbl[\"Shared species [%]\"] = ngs_reldna[mask].sum()\n",
    "tbl[\"Shared species [n]\"] = ngs_reldna[ngs_reldna[mask] !=0].count()\n",
    "tbl[\"Other species [%]\"] = ngs_reldna[other_mask].sum()\n",
    "tbl[\"Other species [n]\"] = ngs_reldna[ngs_reldna[other_mask] !=0].count()\n",
    "tbl[highest_abund] = ngs_reldna.loc[highest_abund].T\n",
    "\n",
    "# Create table labels\n",
    "tbl.index.name = \"Sample\"\n",
    "iterables = [['Shared species', 'Other species'], [\"[%]\", \"[n]\"]]\n",
    "m1 = pd.MultiIndex.from_product(iterables)\n",
    "m2 = pd.MultiIndex.from_tuples(tuple(m1) + tuple([(i, \"[%]\") for i in tbl.columns[-2::]]))\n",
    "tbl.columns = m2\n",
    "tbl = tbl.round(2).replace(0, np.nan)\n",
    "save_to = os.path.join(figures_dir, \"Table_2_data.csv\")\n",
    "tbl.to_csv(save_to)\n",
    "\n",
    "mean = tbl[(\"Shared species\", \"[%]\")].mean().round(2)\n",
    "mini = tbl[(\"Shared species\", \"[%]\")].min().round(2)\n",
    "maxi = tbl[(\"Shared species\", \"[%]\")].max().round(2)\n",
    "\n",
    "# Samples with below average coverage\n",
    "print(\"shared species\")\n",
    "print(\"Avg. {}, (range: {}-{})\".format(mean, mini, maxi))\n",
    "print(\"\\nSamples with below average coverage\")\n",
    "print(tbl[tbl[(\"Shared species\", \"[%]\")] < mean])\n",
    "\n",
    "mean = tbl[(\"Lactiplantibacillus pentosus\", \"[%]\")].mean().round(2)\n",
    "mini = tbl[(\"Lactiplantibacillus pentosus\", \"[%]\")].min().round(2)\n",
    "maxi = tbl[(\"Lactiplantibacillus pentosus\", \"[%]\")].max().round(2)\n",
    "\n",
    "# Samples with above-average rel. abundance of L. pentosus\n",
    "print()\n",
    "print(\"Samples with above-average rel. abundance of L. pentosus\")\n",
    "print(\"Avg. {}, (range: {}-{})\".format(mean, mini, maxi))\n",
    "print(tbl[tbl[(\"Lactiplantibacillus pentosus\", \"[%]\")] > mean].index.to_list())\n",
    "\n",
    "mean = tbl[(\"Lentilactobacillus sunkii\", \"[%]\")].mean().round(2)\n",
    "mini = tbl[(\"Lentilactobacillus sunkii\", \"[%]\")].min().round(2)\n",
    "maxi = tbl[(\"Lentilactobacillus sunkii\", \"[%]\")].max().round(2)\n",
    "\n",
    "# Samples with above-average rel. abundance of L. sunkii\n",
    "print()\n",
    "print(\"Samples with above-average rel. abundance of L. sunkii\")\n",
    "print(\"Avg. {}, (range: {}-{})\".format(mean, mini, maxi))\n",
    "print(tbl[tbl[(\"Lentilactobacillus sunkii\", \"[%]\")] > mean].index.to_list())\n",
    "print()\n",
    "\n",
    "mean = tbl[(\"Other species\", \"[%]\")].mean().round(2)\n",
    "mini = tbl[(\"Other species\", \"[%]\")].min().round(2)\n",
    "maxi = tbl[(\"Other species\", \"[%]\")].max().round(2)\n",
    "\n",
    "print(\"other species\")\n",
    "print(\"Avg. {}, (range: {}-{})\".format(mean, mini, maxi))"
   ]
  },
  {
   "cell_type": "markdown",
   "metadata": {},
   "source": [
    "##### Table 2: Relative abundance data of species detected by 16S rRNA gene amplicon sequencing.\n",
    "Percentage of reads assigned to species also covered by HT-qPCR (shared) and other species that were not covered by HT-qPCR. Two species _L. pentosus_ and _L. sunkii_ with the largest overall abundance are shown separately."
   ]
  },
  {
   "cell_type": "code",
   "execution_count": null,
   "metadata": {},
   "outputs": [],
   "source": [
    "tbl"
   ]
  },
  {
   "cell_type": "markdown",
   "metadata": {},
   "source": [
    "---"
   ]
  },
  {
   "cell_type": "markdown",
   "metadata": {},
   "source": [
    "## Bias estimation\n",
    "\n",
    "[McLaren et al., 2019](https://doi.org/10.7554/eLife.46923.001) developed a model to estimate the bias in metagenomic sequencing experiments. We used their tool [metacal](https://github.com/mikemc/metacal) to estimate the bias of the amplicon sequencing approach using  HT-qPCR data as reference.\n",
    "\n",
    "* The same samples (DNA extractions) were used for the measurements with both methods.\n",
    "    * ~~Extraction bias~~\n",
    "* Potential bias/systematic errors\n",
    "    * PCR bias\n",
    "        * primer binding\n",
    "        * amplification efficiency\n",
    "        * variation in target gene copy number\n",
    "    * Sequencing bias\n",
    "    * Bioinformatics bias\n",
    "        * binning\n",
    "        * database\n",
    "    \n",
    "Both methods have the potential for systematic error or bias, however for HT-qPCR we can estimate the amplification efficiency using qPCR standards with which also the copies/ul are calculated. For the qPCR assays single copy genes were selected and the number of copies was checked with publicly available genomes.  Therefore we selected qPCR as the reference method and and make the simplified assumption that this method has no bias for the following comparison. We made further simplifications, for example we only compared the abundance of species measured by both methods.\n",
    "\n",
    "---"
   ]
  },
  {
   "cell_type": "code",
   "execution_count": null,
   "metadata": {},
   "outputs": [],
   "source": [
    "# Find shared species between the methods\n",
    "shared_species = sorted(list(set(qpcr_count.index) & set(ngs_count.index)), reverse=True)\n",
    "samples = list(qpcr_count.columns)\n",
    "# keep only the data for these species (order aligned)\n",
    "shared_qpcr = qpcr_count.loc[shared_species, samples]\n",
    "shared_ngs = ngs_count.loc[shared_species, samples]\n",
    "assert shared_qpcr.shape == shared_ngs.shape\n",
    "\n",
    "# use pseudocounts (=1) for the observed data for species detected by HT-qPCR (reference) \n",
    "not_observed = (shared_ngs == 0) & (shared_qpcr != 0) \n",
    "shared_ngs[not_observed] = 1\n",
    "\n",
    "# remove data points that are only in the observed data (metacal would also remove these automatically) \n",
    "not_ref = (shared_ngs != 0) & (shared_qpcr == 0)\n",
    "shared_ngs[not_ref] = 0\n",
    "\n",
    "ref_df = shared_qpcr.copy()\n",
    "obs_df = shared_ngs.copy()\n",
    "\n",
    "# Import dataframes to R\n",
    "%R -i ref_df -i obs_df"
   ]
  },
  {
   "cell_type": "code",
   "execution_count": null,
   "metadata": {},
   "outputs": [],
   "source": [
    "%%R\n",
    "# Bias estimation\n",
    "reference <- ref_df %>% as(\"matrix\")\n",
    "observed  <- obs_df %>% as(\"matrix\")\n",
    "\n",
    "stopifnot(identical(dimnames(observed), dimnames(reference)))\n",
    "\n",
    "bias_fit <- estimate_bias(\n",
    "  observed,\n",
    "  reference, \n",
    "  margin = 2, # samples as columns\n",
    "  boot = TRUE\n",
    ")\n",
    "\n",
    "bias_fit.summary <- summary(bias_fit)\n",
    "bias_table <- bias_fit.summary$coefficients\n",
    "\n",
    "print(bias_fit.summary)"
   ]
  },
  {
   "cell_type": "code",
   "execution_count": null,
   "metadata": {
    "scrolled": true
   },
   "outputs": [],
   "source": [
    "# Export bias_table from R\n",
    "%R -o bias_table\n",
    "\n",
    "biasdf = bias_table.copy()\n",
    "biasdf[\"errorbar_min\"] = biasdf[\"estimate\"] / (biasdf[\"gm_se\"] ** 2)\n",
    "biasdf[\"errorbar_max\"] = biasdf[\"estimate\"] * (biasdf[\"gm_se\"] ** 2)"
   ]
  },
  {
   "cell_type": "code",
   "execution_count": null,
   "metadata": {
    "scrolled": false
   },
   "outputs": [],
   "source": [
    "# Plot\n",
    "color_pal = sns.color_palette(\"colorblind\")\n",
    "\n",
    "fig = plt.figure(figsize = (11, 7))\n",
    "ax = gridspec.GridSpec(ncols=2, nrows=2, figure=fig, hspace=0.4, wspace=0.5, width_ratios=[1, 0.85])\n",
    "\n",
    "f_ax1 = fig.add_subplot(ax[0, 0])\n",
    "f_ax2 = fig.add_subplot(ax[1, 0])\n",
    "f_label = fig.add_subplot(ax[0, 1])\n",
    "f_label.axis(\"off\")\n",
    "f_ax3 = fig.add_subplot(ax[0:2,1])\n",
    "\n",
    "cat = {\"shared_positive\": 1, \"qPCR_only\": 2, \"NGS_only\": 4, \"NGS_exclusive\": 3}\n",
    "pos_data = cheese_df.query('Category != \"not_detected\"')\n",
    "pos_data[\"Sort\"] = pos_data[\"Category\"].map(cat)\n",
    "plot_data = pos_data.sort_values([\"Sort\"])\n",
    "\n",
    "pf.count_data_plot(plot_data, f_ax1, color_pal)\n",
    "pf.rel_data_plot(plot_data, f_ax2, color_pal)\n",
    "\n",
    "pf.bias_plot(biasdf, ax=f_ax3, colors=[\"black\"])\n",
    "f_ax3.set_xticks([0.1, 0.3, 0.5, 1, 2, 3])\n",
    "f_ax3.set_xticklabels([0.1, 0.3, 0.5, 1, 2, 3])\n",
    "ylim = f_ax3.get_ylim()\n",
    "f_ax3.set_ylim(0.5, 15.5)\n",
    "\n",
    "f_ax3.tick_params(length=0, which=\"minor\")\n",
    "f_ax3.grid(\"on\", color=\"white\")\n",
    "f_ax3.set_facecolor('gainsboro')\n",
    "for spine in f_ax3.spines:\n",
    "    f_ax3.spines[spine].set_color(\"white\")\n",
    "\n",
    "# Labels for plots\n",
    "f_ax1.text(\n",
    "    -0.09, 0.95, 'A', fontsize=22, horizontalalignment='center',\n",
    "     verticalalignment='bottom', transform=f_ax1.transAxes)\n",
    "f_ax2.text(\n",
    "    -0.09, 0.95, 'B', fontsize=22, horizontalalignment='center',\n",
    "     verticalalignment='bottom', transform=f_ax2.transAxes)\n",
    "f_label.text(\n",
    "    -0.4, 0.95, 'C', fontsize=22, horizontalalignment='center',\n",
    "     verticalalignment='bottom', transform=f_label.transAxes)\n",
    "\n",
    "save_to = os.path.join(figures_dir, \"Figure_3.png\")\n",
    "plt.savefig(save_to, dpi=600, bbox_inches='tight')"
   ]
  },
  {
   "cell_type": "markdown",
   "metadata": {},
   "source": [
    "##### Figure 3: Comparison of HT-qPCR and 16S rRNA gene amplicon sequencing (NGS)\n",
    "A) Logarithmic HT-qPCR data (y-axis) and logarithmic count data corresponding to the NGS approach (x-axis). The red line depicts the threshold of 800 copies/µl used for the HT-qPCR data analysis. Shared positive: Measurements obtained with both methods. qPCR only/NGS only: Measurements obtained solely by one of the two methods, HT-qPCR or NGS, respectively. NGS exclusive: Measurements of taxa by NGS for which no HT-qPCR assay was available. The number of observations for each group is given in brackets. B) Direct comparison of the relative abundance data of HT-qPCR (copies/µl) on the y-axis and NGS (reads) on the x-axis. The taxa that were only detected by NGS (NGS exclusive) were not considered. C) Plot of the bias point estimates ± two geometric standard errors calculated for the NGS approach using the HT-qPCR approach as reference method. Only the data of the shared positive measurements was used for the bias estimation."
   ]
  },
  {
   "cell_type": "markdown",
   "metadata": {},
   "source": [
    "#### Correction for *L. plantarum* group species (See Supplementary Figure S1)\n",
    "We have observed a large bias for several species (Figure 3C). The most negatively biased were *L. plantarum*, *E. faecalis* and *P. pentosaceus*.\n",
    "\n",
    "* It is known that the species of th *L. plantarum* group are difficult to differentiate based on 16S rRNA gene sequences. Therefore we investigated the 16S rRNA gene region (V1-V2) of reference genomes for *L. plantarum*, *L. paraplantarum* and *L. pentosus*. Multiple sequence alignments of the V1-V2 region have shown that the amplicon sequences of *L. plantarum* and *L. pentosus* were nearly identical and that the sequence of *L. paraplantarum* had only few different nucleotides. An alignment of the ASVs (amplicon sequence variants) observed for *L. plantarum* and *L. pentosus* and the reference sequences from reference genomes and the DAIRYdb has shown that sequences from *L. paraplantarum* formed a separate cluster. However, due to the highly similar reference sequences in the DAIRYdb these ASVs were assigned to either *L. plantarum* or *L. pentosus*. Since these three species were not separated by the analysis pipeline we applied a correction by grouping the reads together in an *L. plantarum* group for further analysis of the data."
   ]
  },
  {
   "cell_type": "markdown",
   "metadata": {},
   "source": [
    "![Supplementary Figure S1](Figures/Supplementary_Figure_S1.png)"
   ]
  },
  {
   "cell_type": "markdown",
   "metadata": {},
   "source": [
    "##### Supplementary Figure S1: Analysis of the potential to differentiate L. plantarum group species based on V1-V2 variable regions of the 16S rRNA gene.   \n",
    "\n",
    "A) Alignment of the V1-V2 16S rRNA gene region of the representative genomes of *L. plantarum*, *L. paraplantarum* and *L. pentosus*. \n",
    "B) Alignment of the DAIRYdb 16S rRNA gene reference sequences. \n",
    "C) The best-scoring maximum likelihood tree from alignments of the V1-V2 16S rRNA gene sequences including the representative genomes, the DAIRYdb reference sequences and the ASVs for *L. plantarum*, *L. paraplantarum* and *L. pentosus*. \n",
    "\n",
    "---"
   ]
  },
  {
   "cell_type": "markdown",
   "metadata": {},
   "source": [
    "![\"Supplementary Figure S2\"](Figures/Supplementary_Figure_S2.png)"
   ]
  },
  {
   "cell_type": "markdown",
   "metadata": {},
   "source": [
    "#### Supplementary Figure S2: _L. plantarum_ group discrimination of 16S rRNA gene amplicon sequencing targeting the V3-V4 region\n",
    "\n",
    "---"
   ]
  },
  {
   "cell_type": "markdown",
   "metadata": {},
   "source": [
    "* An multiple sequence alignment (MSA) of the V1-V2 region of the 16S rRNA gene for representative genomes from NCBI for these species has shown that *P. pentosaceus* harbors a single nucleotide difference in the forward primer binding region (__Supplementary Figure S2__). This could affect the amplification efficiency of these amplicons and the reason for the strong bias for this taxon in the results."
   ]
  },
  {
   "cell_type": "markdown",
   "metadata": {},
   "source": [
    "* *E. faecalis* was only once detected by HT-qPCR and seven times by amplicon sequencing. The difference in the number of detections seems reasonable since the technical limit of detection for qPCR is around 800 copies/ul and the relative abundance of *E. faecalis* was very low for these six samples. The MSA did not show any indications for issues with primer binding.  "
   ]
  },
  {
   "cell_type": "code",
   "execution_count": null,
   "metadata": {},
   "outputs": [],
   "source": [
    "# For Enterocccus faecalis only one shared measurement was available\n",
    "cheese_df.query('Species == \"Enterococcus faecalis\" & NGS_rel > 0')"
   ]
  },
  {
   "cell_type": "markdown",
   "metadata": {},
   "source": [
    "![\"Supplementary Figure S3\"](Figures/Supplementary_Figure_S3.png)"
   ]
  },
  {
   "cell_type": "markdown",
   "metadata": {},
   "source": [
    "##### Supplementary Figure S3: Alignment of the 16S rRNA gene primer binding regions.\n",
    "---"
   ]
  },
  {
   "cell_type": "markdown",
   "metadata": {},
   "source": [
    "## Bioinformatics bias correction"
   ]
  },
  {
   "cell_type": "markdown",
   "metadata": {},
   "source": [
    "#### 16S rRNA gene copy number correction\n",
    "Another potential source of PCR bias for amplicon sequencing may be the variation (inter- or intra-species) in the number of copies of the 16S rRNA gene.\n",
    "The qPCR assays were designed to target single copy genes.\n",
    "\n",
    "We estimated the average copy numbers of the taxons and performed copy number normalization \n",
    "\n",
    "16S copy number data was extracted from the [rrnDB](https://rrndb.umms.med.umich.edu/), [(Stoddard et al.)](https://doi.org/10.1093/nar/gku1201)"
   ]
  },
  {
   "cell_type": "code",
   "execution_count": null,
   "metadata": {},
   "outputs": [],
   "source": [
    "average_16S_CN = 5.29 # Starke et al. 2020, https://doi.org/10.1007/s00248-020-01586-7\n",
    "specieslist = list(set(list(qpcr_count.index.values) + list(ngs_count.index.values)))\n",
    "\n",
    "inputfile = 'rawdata/rrnDB-5.7_pantaxa_stats_NCBI.tsv' # you may want to update this filename for newer version of the database\n",
    "\n",
    "if os.path.isfile(inputfile):\n",
    "    copy_tbl, copy_dict = hf.find_16S_copy_numbers(inputfile, specieslist, average_16S_CN)  \n",
    "else:\n",
    "    copy_tbl = pd.read_csv(\"rawdata/16S_copy_number_table.csv\", index_col=0, header=0)\n",
    "    with open(\"rawdata/copydict.json\", \"r\") as f:\n",
    "        for line in f:\n",
    "            copy_dict = json.loads(line)\n",
    "\n",
    "copy_tbl.to_csv(\"Figures/Supplementary_Table_S1_data.csv\")\n",
    "\n",
    "cn_bias_dict = dict(mf.center_elts(pd.DataFrame.from_dict(copy_dict, orient='index'))[0])"
   ]
  },
  {
   "cell_type": "markdown",
   "metadata": {},
   "source": [
    "##### Supplementary Table S1: 16S rRNA gene copy numbers for taxa detected in Raclette du Valais PDO cheeses"
   ]
  },
  {
   "cell_type": "code",
   "execution_count": null,
   "metadata": {},
   "outputs": [],
   "source": [
    "copy_tbl.loc[shared_species, :]"
   ]
  },
  {
   "cell_type": "code",
   "execution_count": null,
   "metadata": {},
   "outputs": [],
   "source": [
    "# Correction of the bioinformatics analysis bias of L. plantarum group species \n",
    "corr_ngs_count = ngs_count.copy()\n",
    "corr_ngs_count.loc[\"Lactiplantibacillus plantarum\", :] = corr_ngs_count.loc[\n",
    "    [\"Lactiplantibacillus plantarum\", \"Lactiplantibacillus pentosus\"]].sum()\n",
    "corr_ngs_count = corr_ngs_count.drop(\n",
    "    [\"Lactiplantibacillus pentosus\"])\n",
    "corr_ngs_rel = mf.calc_rel_abund(corr_ngs_count)\n",
    "\n",
    "corr_qpcr_count = qpcr_count.copy()\n",
    "corr_qpcr_count.loc[\"Lactiplantibacillus plantarum\", :] = corr_qpcr_count.loc[\n",
    "    [\"Lactiplantibacillus plantarum\", \"Lactiplantibacillus paraplantarum\"]].sum()\n",
    "corr_qpcr_count = corr_qpcr_count.drop(\n",
    "    [\"Lactiplantibacillus paraplantarum\"])\n",
    "corr_qpcr_rel = mf.calc_rel_abund(corr_qpcr_count)\n",
    "\n",
    "corr_cheese_df, corr_shared_species = hf.create_summarydf(\n",
    "    corr_qpcr_count, corr_ngs_count, corr_qpcr_rel, corr_ngs_rel)"
   ]
  },
  {
   "cell_type": "code",
   "execution_count": null,
   "metadata": {},
   "outputs": [],
   "source": [
    "# shared species\n",
    "mask = corr_ngs_rel.index.isin(corr_shared_species)\n",
    "# not targeted by qPCR but high abundance\n",
    "highest_abund = corr_ngs_rel[~mask].sum(axis=1).nlargest(1).index\n",
    "abund_mask = corr_ngs_rel.index.isin(highest_abund)\n",
    "# remaining\n",
    "other_mask = (~mask) & (~abund_mask)\n",
    "# Table data\n",
    "corr_tbl = pd.DataFrame()\n",
    "corr_tbl[\"Shared species [%]\"] = corr_ngs_rel[mask].sum()\n",
    "corr_tbl[\"Shared species [n]\"] = corr_ngs_rel[corr_ngs_rel[mask] !=0].count()\n",
    "corr_tbl[\"Other species [%]\"] = corr_ngs_rel[other_mask].sum()\n",
    "corr_tbl[\"Other species [n]\"] = corr_ngs_rel[corr_ngs_rel[other_mask] !=0].count()\n",
    "corr_tbl[highest_abund] = corr_ngs_rel.loc[highest_abund].T\n",
    "\n",
    "corr_tbl.index.name = \"Sample\"\n",
    "iterables = [['Shared species', 'Other species'], [\"[%]\", \"[n]\"]]\n",
    "m1 = pd.MultiIndex.from_product(iterables)\n",
    "m2 = pd.MultiIndex.from_tuples(tuple(m1) + tuple([(i, \"[%]\") for i in corr_tbl.columns[-1::]]))\n",
    "corr_tbl.columns = m2\n",
    "corr_tbl = corr_tbl.round(2).replace(0, np.nan)\n",
    "save_to = os.path.join(figures_dir, \"Supplementary_Table_S2_data.csv\")\n",
    "corr_tbl.to_csv(save_to)"
   ]
  },
  {
   "cell_type": "markdown",
   "metadata": {},
   "source": [
    "##### Supplementary Table S2: Relative abundance data of species detected by 16S rRNA gene amplicon sequencing after L. plantarum group correction."
   ]
  },
  {
   "cell_type": "code",
   "execution_count": null,
   "metadata": {},
   "outputs": [],
   "source": [
    "corr_tbl"
   ]
  },
  {
   "cell_type": "code",
   "execution_count": null,
   "metadata": {},
   "outputs": [],
   "source": [
    "# Coverage after correction for L. plantarum group\n",
    "mean = corr_tbl[(\"Shared species\", \"[%]\")].mean().round(2)\n",
    "mini = corr_tbl[(\"Shared species\", \"[%]\")].min().round(2)\n",
    "maxi = corr_tbl[(\"Shared species\", \"[%]\")].max().round(2)\n",
    "\n",
    "print(\"shared species\")\n",
    "print(\"Avg. {}, (range: {}-{})\".format(mean, mini, maxi))\n",
    "print(\"\\nSamples with below average coverage\\n\")\n",
    "print(corr_tbl[corr_tbl[(\"Shared species\", \"[%]\")] < mean])"
   ]
  },
  {
   "cell_type": "code",
   "execution_count": null,
   "metadata": {},
   "outputs": [],
   "source": [
    "# Find shared species between the methods for corrected data\n",
    "shared_species = sorted(list(set(corr_qpcr_count.index) & set(corr_ngs_count.index)), reverse=True)\n",
    "samples = list(corr_qpcr_count.columns)\n",
    "\n",
    "# keep only the data for these species (align data)\n",
    "corr_shared_qpcr = corr_qpcr_count.loc[shared_species, samples]\n",
    "corr_shared_ngs = corr_ngs_count.loc[shared_species, samples]\n",
    "assert corr_shared_qpcr.shape == corr_shared_ngs.shape\n",
    "\n",
    "# use pseudocounts (=1) for the observed data for species detected by HT-qPCR (reference) \n",
    "not_observed = (corr_shared_ngs == 0) & (corr_shared_qpcr != 0)\n",
    "corr_shared_ngs[not_observed] = 1\n",
    "\n",
    "# remove data points that are only in the observed data (metacal could also remove these automatically) \n",
    "no_ref = (corr_shared_ngs != 0) & (corr_shared_qpcr == 0)\n",
    "corr_shared_ngs[no_ref] = 0"
   ]
  },
  {
   "cell_type": "code",
   "execution_count": null,
   "metadata": {},
   "outputs": [],
   "source": [
    "# copy number correction\n",
    "CN_bias_raw = pd.DataFrame(index=shared_ngs.index)\n",
    "CN_bias_raw[\"Copy_number\"] = CN_bias_raw.index.map(cn_bias_dict)\n",
    "CN_shared_raw = shared_ngs.div(CN_bias_raw[\"Copy_number\"], axis=0).round()\n",
    "\n",
    "# L. plantarum correction and copy number correction\n",
    "CN_bias = pd.DataFrame(index=corr_shared_ngs.index)\n",
    "CN_bias[\"Copy_number\"] = CN_bias.index.map(cn_bias_dict)\n",
    "CN_shared_ngs = corr_shared_ngs.div(CN_bias[\"Copy_number\"], axis=0).round()\n",
    "\n",
    "CN_obs_df_raw = CN_shared_raw.copy()\n",
    "corr_ref_df = corr_shared_qpcr.copy()\n",
    "corr_obs_df = corr_shared_ngs.copy()\n",
    "CN_obs_df = CN_shared_ngs.copy()\n",
    "\n",
    "%R -i corr_ref_df -i corr_obs_df -i CN_obs_df -i CN_obs_df_raw"
   ]
  },
  {
   "cell_type": "code",
   "execution_count": null,
   "metadata": {},
   "outputs": [],
   "source": [
    "%%R\n",
    "# Bias estimation after copy number correction\n",
    "reference <- ref_df %>% as(\"matrix\")\n",
    "CN_raw_observed  <- CN_obs_df_raw %>% as(\"matrix\")\n",
    "\n",
    "stopifnot(identical(dimnames(observed), dimnames(reference)))\n",
    "\n",
    "CN_raw_bias_fit <- estimate_bias(\n",
    "  CN_raw_observed,\n",
    "  reference, \n",
    "  margin = 2, # samples as columns\n",
    "  boot = TRUE\n",
    ")\n",
    "\n",
    "CN_raw_bias_fit.summary <- summary(CN_raw_bias_fit)\n",
    "CN_raw_bias_table <- CN_raw_bias_fit.summary$coefficients"
   ]
  },
  {
   "cell_type": "code",
   "execution_count": null,
   "metadata": {},
   "outputs": [],
   "source": [
    "%%R\n",
    "# Bias estimation after L. plantarum correction\n",
    "corr_reference <- corr_ref_df %>% as(\"matrix\")\n",
    "corr_observed  <- corr_obs_df %>% as(\"matrix\")\n",
    "\n",
    "stopifnot(identical(dimnames(observed), dimnames(reference)))\n",
    "\n",
    "corr_bias_fit <- estimate_bias(\n",
    "  corr_observed,\n",
    "  corr_reference, \n",
    "  margin = 2, # samples as columns\n",
    "  boot = TRUE\n",
    ")\n",
    "\n",
    "corr_bias_fit.summary <- summary(corr_bias_fit)\n",
    "corr_bias_table <- corr_bias_fit.summary$coefficients"
   ]
  },
  {
   "cell_type": "code",
   "execution_count": null,
   "metadata": {},
   "outputs": [],
   "source": [
    "%%R\n",
    "# Bias estimation after L. plantarum correction and copy number correction\n",
    "corr_reference <- corr_ref_df %>% as(\"matrix\")\n",
    "CN_observed  <- CN_obs_df %>% as(\"matrix\")\n",
    "\n",
    "stopifnot(identical(dimnames(observed), dimnames(reference)))\n",
    "\n",
    "CN_bias_fit <- estimate_bias(\n",
    "  CN_observed,\n",
    "  corr_reference, \n",
    "  margin = 2, # samples as columns\n",
    "  boot = TRUE\n",
    ")\n",
    "\n",
    "CN_bias_fit.summary <- summary(CN_bias_fit)\n",
    "CN_bias_table <- CN_bias_fit.summary$coefficients"
   ]
  },
  {
   "cell_type": "code",
   "execution_count": null,
   "metadata": {},
   "outputs": [],
   "source": [
    "%R -o CN_raw_bias_table -o corr_bias_table -o CN_bias_table"
   ]
  },
  {
   "cell_type": "code",
   "execution_count": null,
   "metadata": {},
   "outputs": [],
   "source": [
    "# Calculate the error bars for the plots Fig 4 B, C\n",
    "corr_biasdf = corr_bias_table.copy()\n",
    "corr_biasdf[\"errorbar_min\"] = corr_biasdf[\"estimate\"] / (corr_biasdf[\"gm_se\"] ** 2)\n",
    "corr_biasdf[\"errorbar_max\"] = corr_biasdf[\"estimate\"] * (corr_biasdf[\"gm_se\"] ** 2)\n",
    "\n",
    "CN_biasdf = CN_bias_table.copy()\n",
    "CN_biasdf[\"errorbar_min\"] = CN_biasdf[\"estimate\"] / (CN_biasdf[\"gm_se\"] ** 2)\n",
    "CN_biasdf[\"errorbar_max\"] = CN_biasdf[\"estimate\"] * (CN_biasdf[\"gm_se\"] ** 2)\n",
    "\n",
    "CN_raw_bias_table\n",
    "CN_biasdf_raw = CN_raw_bias_table.copy()\n",
    "CN_biasdf_raw[\"errorbar_min\"] = CN_biasdf_raw[\"estimate\"] / (CN_biasdf_raw[\"gm_se\"] ** 2)\n",
    "CN_biasdf_raw[\"errorbar_max\"] = CN_biasdf_raw[\"estimate\"] * (CN_biasdf_raw[\"gm_se\"] ** 2)"
   ]
  },
  {
   "cell_type": "code",
   "execution_count": null,
   "metadata": {},
   "outputs": [],
   "source": [
    "# Data Fig 4 A)\n",
    "\n",
    "# 16S rRNA copy number correction\n",
    "ngs_raw_CN = ngs_count.copy()\n",
    "ngs_raw_CN[\"Copy_number\"] = ngs_raw_CN.index.map(cn_bias_dict)\n",
    "ngs_raw_CN = ngs_raw_CN.div(ngs_raw_CN[\"Copy_number\"], axis=0).round()\n",
    "ngs_raw_CN_rel = mf.calc_rel_abund(ngs_raw_CN.drop([\"Copy_number\"], axis=1))\n",
    "\n",
    "corr_ngs_CN = corr_ngs_count.copy()\n",
    "corr_ngs_CN[\"Copy_number\"] = corr_ngs_CN.index.map(cn_bias_dict)\n",
    "corr_ngs_CN = corr_ngs_CN.div(corr_ngs_CN[\"Copy_number\"], axis=0).round()\n",
    "corr_ngs_CN_rel = mf.calc_rel_abund(corr_ngs_CN.drop([\"Copy_number\"], axis=1))\n",
    "\n",
    "# Bray-Curtis Dissimilarity calculation for raw and corrected data\n",
    "\n",
    "raw_data = {\n",
    "    \"R\": qpcr_reldna.copy(),\n",
    "    \"A\": ngs_reldna.copy(),\n",
    "    \"B\": ngs_raw_CN_rel.copy()\n",
    "    }\n",
    "\n",
    "corr_data = {\n",
    "    \"R\": corr_qpcr_rel.copy(),\n",
    "    \"C\": corr_ngs_rel.copy(),\n",
    "    \"D\": corr_ngs_CN_rel.copy()\n",
    "    }\n",
    "\n",
    "CN_corr_df_r1 = hf.method_comparison_df(raw_data)\n",
    "CN_corr_df_r2 = hf.method_comparison_df(corr_data)\n",
    "dissim_to_ref1 = hf.dissimilarity_df(CN_corr_df_r1, methods=[\"R\", \"A\", \"B\"])\n",
    "dissim_to_ref2 = hf.dissimilarity_df(CN_corr_df_r2, methods=[\"R\", \"C\", \"D\"])\n",
    "\n",
    "dissim_to_ref = pd.concat([dissim_to_ref1, dissim_to_ref2])"
   ]
  },
  {
   "cell_type": "code",
   "execution_count": null,
   "metadata": {
    "scrolled": false
   },
   "outputs": [],
   "source": [
    "# Figure 4\n",
    "fig = plt.figure(figsize = (11.5, 8))\n",
    "# Create axes\n",
    "ax = gridspec.GridSpec(\n",
    "    ncols=5, nrows=2, figure=fig, hspace=0.25, wspace=0.025,\n",
    "    width_ratios=[0.2, 1, 0.45, 1.1, 0.2],\n",
    "    height_ratios=[0.3, 0.7])\n",
    "\n",
    "f_buffer = fig.add_subplot(ax[0, 1])\n",
    "f_ax1 = fig.add_subplot(ax[0, 0:2])\n",
    "f_ax2 = fig.add_subplot(ax[1, 1])\n",
    "f_sep = fig.add_subplot(ax[0:,2])\n",
    "f_ax3 = fig.add_subplot(ax[0:,3])\n",
    "f_ax4 = fig.add_subplot(ax[0:,4])\n",
    "\n",
    "f_sep.axis('off')\n",
    "f_buffer.axis('off')\n",
    "\n",
    "#colors = sns.color_palette(\"colorblind\", 2)*2\n",
    "colors = [\"grey\", \"black\", \"deepskyblue\", \"darkblue\"]\n",
    "# Plot A\n",
    "pf.dissimilarity_plot(dissim_to_ref, f_ax1, colors)\n",
    "\n",
    "# Plot B\n",
    "#colors = (\"black\", sns.color_palette(\"colorblind\", 1)[0])\n",
    "colors = [\"grey\", \"deepskyblue\"]\n",
    "pf.bias_plot(biasdf, corr_biasdf, ax=f_ax2, colors=colors, markers=[\"o\", \"^\"])\n",
    "f_ax2.set_xticks([0.1, 0.3, 0.5, 1, 2, 3])\n",
    "f_ax2.set_xticklabels([0.1, 0.3, 0.5, 1, 2, 3])\n",
    "\n",
    "handles, labels = f_ax2.get_legend_handles_labels()\n",
    "f_ax2.legend(\n",
    "        handles, [\"raw\", \"corr.\"],\n",
    "        loc='upper left', frameon=False, markerscale=1,\n",
    "        columnspacing=0.1, labelspacing=0.1,\n",
    "        handletextpad=0.1, prop={\"size\": 10},\n",
    "        bbox_to_anchor=(-0.025, 1.0)\n",
    "        )\n",
    "\n",
    "ylim = (0.5, 15.5)\n",
    "f_ax2.set_ylim(ylim)\n",
    "f_ax2.tick_params(length=0, which=\"minor\")\n",
    "f_ax2.grid(\"on\", color=\"white\")\n",
    "f_ax2.set_facecolor('gainsboro')\n",
    "for spine in f_ax2.spines:\n",
    "    f_ax2.spines[spine].set_color(\"white\")\n",
    "\n",
    "#colors = sns.color_palette(\"colorblind\", 2)*2\n",
    "colors = [\"deepskyblue\", \"darkblue\"]\n",
    "# Plot C\n",
    "pf.bias_plot(corr_biasdf, CN_biasdf, ax=f_ax3, colors=colors, markers=[\"^\", \"^\"])\n",
    "f_ax3.set_xticks([0.1, 0.3, 0.5, 1, 2, 3])\n",
    "f_ax3.set_xticklabels([0.1, 0.3, 0.5, 1, 2, 3])\n",
    "\n",
    "handles, labels = f_ax3.get_legend_handles_labels()\n",
    "f_ax3.legend(\n",
    "        handles, [\"corr.\", \"corr. GCN\"],\n",
    "        loc='upper left', frameon=False, markerscale=1,\n",
    "        columnspacing=0.1, labelspacing=0.1,\n",
    "        handletextpad=0.1, prop={\"size\": 10},\n",
    "        bbox_to_anchor=(-0.025, 1.01)\n",
    "        )\n",
    "\n",
    "ylim = (0.5, 15.5)\n",
    "f_ax3.set_ylim(ylim)\n",
    "f_ax3.tick_params(length=0, which=\"minor\")\n",
    "f_ax3.grid(\"on\", color=\"white\")\n",
    "f_ax3.patch.set_facecolor('gainsboro')\n",
    "for spine in f_ax3.spines:\n",
    "    f_ax3.spines[spine].set_color(\"white\")\n",
    "\n",
    "# Plot C copy number barplot\n",
    "error_order = corr_biasdf.sort_values([\"estimate\"], ascending=False)[\"taxon\"]\n",
    "cndf = pd.DataFrame([copy_dict[e] for e in error_order], index=error_order, columns=[\"16S CN\"])\n",
    "sns.barplot(x=\"16S CN\",y=cndf.index, data=cndf, ax=f_ax4, color=\"black\")\n",
    "f_ax4.grid('on', which=\"both\", axis=\"x\", color=\"black\")\n",
    "f_ax4.set_xlim(0, 9.5)\n",
    "f_ax4.set_xticks([2, 4, 6, 8])\n",
    "f_ax4.set_yticklabels([])\n",
    "f_ax4.tick_params(axis=\"y\", length=0)\n",
    "f_ax4.set_xlabel(\"\")\n",
    "f_ax4.set_ylabel(\"\")\n",
    "f_ax4.set_title(\"Avg.\\ncopy number\", horizontalalignment='center')\n",
    "f_ax4.spines['top'].set_visible(False)\n",
    "f_ax4.spines['right'].set_visible(False)\n",
    "f_ax4.spines['bottom'].set_visible(False)\n",
    "f_ax4.tick_params(axis=\"x\", width=0, pad=-0.5)\n",
    "\n",
    "# Add subplot labels\n",
    "f_ax1.text(\n",
    "    -0.425, 1., 'A', fontsize=22, horizontalalignment='center',\n",
    "     verticalalignment='bottom', transform=f_buffer.transAxes)\n",
    "f_ax2.text(\n",
    "    -0.425, 1., 'B', fontsize=22, horizontalalignment='center',\n",
    "     verticalalignment='bottom', transform=f_ax2.transAxes)\n",
    "f_ax3.text(\n",
    "    -0.3, 1., 'C', fontsize=22, horizontalalignment='center',\n",
    "     verticalalignment='bottom', transform=f_ax3.transAxes)\n",
    "\n",
    "save_to = os.path.join(figures_dir, \"Figure_4.png\")\n",
    "plt.savefig(save_to, dpi=600, bbox_inches='tight')"
   ]
  },
  {
   "cell_type": "markdown",
   "metadata": {},
   "source": [
    "##### Figure 4: Bias estimates for raw and corrected data sets\n",
    "A) Bray-Curtis dissimilarity of relative abundance data of 16S rRNA gene amplicon sequencing (NGS) to HT-qPCR relative abundance data (reference). Depicted are the dissimilarities for the raw and the corrected _L. plantarum_ group data sets without and with gene copy number normalization (GCN) for the 16S rRNA gene. \n",
    "B) Bias point estimates ± two geometric standard errors before and after the correction of the assignments for the _L. plantarum_ group species.\n",
    "C) Bias point estimates ± two geometric standard errors after the correction of the assignments for the _L. plantarum_ group species, with and without 16S rRNA gene copy number correction."
   ]
  },
  {
   "cell_type": "markdown",
   "metadata": {},
   "source": [
    "#### Bias after correction for *L*. *plantarum* group species\n",
    "* The estimated bias for *L*. *plantarum* after the *L*. *plantarum* group correction is significantly lower than without the correction.\n",
    "* 16S rRNA gene copy number correction has only a minor influence on the estimated bias."
   ]
  },
  {
   "cell_type": "code",
   "execution_count": null,
   "metadata": {},
   "outputs": [],
   "source": [
    "cmap = sns.color_palette(\"Paired\", 12) + sns.color_palette(\"colorblind\")[4::]\n",
    "\n",
    "# prepare grid\n",
    "fig = plt.figure(figsize = (18, 14))\n",
    "ax = gridspec.GridSpec(\n",
    "    ncols=6, nrows=6, figure=fig, wspace=0.0, \n",
    "    hspace=0.5, width_ratios=[0.5, 2, 0.4, 0.4, 0.4, 0.4])\n",
    "\n",
    "f_ax1 = fig.add_subplot(ax[0:, 0])\n",
    "f_ax2 = fig.add_subplot(ax[0:, 1])\n",
    "f_ax3 = fig.add_subplot(ax[0:, 2])\n",
    "f_ax3.axis(\"off\")\n",
    "\n",
    "methods=[\"R\", \"D\"]\n",
    "refdict = {\"R\": \"qPCR\", \"D\": \"NGS\"}\n",
    "\n",
    "search = \"[{}]\".format(\"\".join(methods))\n",
    "linkdf = CN_corr_df_r2.filter(regex=search, axis=1).T\n",
    "\n",
    "# Draw plot and get leaves of linkage\n",
    "ax, leaves = pf.linkage_plot(linkdf, f_ax1, corr_shared_species)\n",
    "barplot_data = pf.sort_barplots(linkdf, leaves, corr_shared_species)\n",
    "pf.draw_linked_barplots(barplot_data, f_ax2, f_ax3, refdict, cmap)\n",
    "\n",
    "save_to = os.path.join(figures_dir, \"Figure_5.png\")\n",
    "plt.savefig(save_to, dpi=600, bbox_inches='tight')"
   ]
  },
  {
   "cell_type": "markdown",
   "metadata": {},
   "source": [
    "##### Figure 5: Comparison of HT-qPCR and 16S rRNA gene amplicon sequencing (NGS) data with corrections for L. plantarum group species and 16S rRNA gene copy normalization.\n",
    "Relative species compositions of the samples measured by HT-qPCR and NGS The samples are sorted and clustered according the UPGMA linkage based on the Bray-Curtis dissimilarity. The relative abundance of the 15 species/groups detected by both methods are depicted with the species name, the other taxa were summarized as other species.\n",
    "\n",
    "---"
   ]
  }
 ],
 "metadata": {
  "kernelspec": {
   "display_name": "Python 3",
   "language": "python",
   "name": "python3"
  },
  "language_info": {
   "codemirror_mode": {
    "name": "ipython",
    "version": 3
   },
   "file_extension": ".py",
   "mimetype": "text/x-python",
   "name": "python",
   "nbconvert_exporter": "python",
   "pygments_lexer": "ipython3",
   "version": "3.9.2"
  }
 },
 "nbformat": 4,
 "nbformat_minor": 4
}
